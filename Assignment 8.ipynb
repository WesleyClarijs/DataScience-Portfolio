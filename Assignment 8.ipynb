{
 "cells": [
  {
   "cell_type": "code",
   "execution_count": 1,
   "id": "f08997cf",
   "metadata": {},
   "outputs": [],
   "source": [
    "import numpy as np\n",
    "import seaborn as sns\n",
    "import pandas as pd\n",
    "import scipy.stats as st"
   ]
  },
  {
   "cell_type": "code",
   "execution_count": 2,
   "id": "a176e826",
   "metadata": {},
   "outputs": [
    {
     "data": {
      "text/html": [
       "<div>\n",
       "<style scoped>\n",
       "    .dataframe tbody tr th:only-of-type {\n",
       "        vertical-align: middle;\n",
       "    }\n",
       "\n",
       "    .dataframe tbody tr th {\n",
       "        vertical-align: top;\n",
       "    }\n",
       "\n",
       "    .dataframe thead th {\n",
       "        text-align: right;\n",
       "    }\n",
       "</style>\n",
       "<table border=\"1\" class=\"dataframe\">\n",
       "  <thead>\n",
       "    <tr style=\"text-align: right;\">\n",
       "      <th></th>\n",
       "      <th>id</th>\n",
       "      <th>gender</th>\n",
       "      <th>age</th>\n",
       "      <th>hypertension</th>\n",
       "      <th>heart_disease</th>\n",
       "      <th>ever_married</th>\n",
       "      <th>work_type</th>\n",
       "      <th>Residence_type</th>\n",
       "      <th>avg_glucose_level</th>\n",
       "      <th>bmi</th>\n",
       "      <th>smoking_status</th>\n",
       "      <th>stroke</th>\n",
       "    </tr>\n",
       "  </thead>\n",
       "  <tbody>\n",
       "    <tr>\n",
       "      <th>0</th>\n",
       "      <td>9046</td>\n",
       "      <td>Male</td>\n",
       "      <td>67.0</td>\n",
       "      <td>0</td>\n",
       "      <td>1</td>\n",
       "      <td>Yes</td>\n",
       "      <td>Private</td>\n",
       "      <td>Urban</td>\n",
       "      <td>228.69</td>\n",
       "      <td>36.6</td>\n",
       "      <td>formerly smoked</td>\n",
       "      <td>1</td>\n",
       "    </tr>\n",
       "    <tr>\n",
       "      <th>1</th>\n",
       "      <td>51676</td>\n",
       "      <td>Female</td>\n",
       "      <td>61.0</td>\n",
       "      <td>0</td>\n",
       "      <td>0</td>\n",
       "      <td>Yes</td>\n",
       "      <td>Self-employed</td>\n",
       "      <td>Rural</td>\n",
       "      <td>202.21</td>\n",
       "      <td>NaN</td>\n",
       "      <td>never smoked</td>\n",
       "      <td>1</td>\n",
       "    </tr>\n",
       "    <tr>\n",
       "      <th>2</th>\n",
       "      <td>31112</td>\n",
       "      <td>Male</td>\n",
       "      <td>80.0</td>\n",
       "      <td>0</td>\n",
       "      <td>1</td>\n",
       "      <td>Yes</td>\n",
       "      <td>Private</td>\n",
       "      <td>Rural</td>\n",
       "      <td>105.92</td>\n",
       "      <td>32.5</td>\n",
       "      <td>never smoked</td>\n",
       "      <td>1</td>\n",
       "    </tr>\n",
       "    <tr>\n",
       "      <th>3</th>\n",
       "      <td>60182</td>\n",
       "      <td>Female</td>\n",
       "      <td>49.0</td>\n",
       "      <td>0</td>\n",
       "      <td>0</td>\n",
       "      <td>Yes</td>\n",
       "      <td>Private</td>\n",
       "      <td>Urban</td>\n",
       "      <td>171.23</td>\n",
       "      <td>34.4</td>\n",
       "      <td>smokes</td>\n",
       "      <td>1</td>\n",
       "    </tr>\n",
       "    <tr>\n",
       "      <th>4</th>\n",
       "      <td>1665</td>\n",
       "      <td>Female</td>\n",
       "      <td>79.0</td>\n",
       "      <td>1</td>\n",
       "      <td>0</td>\n",
       "      <td>Yes</td>\n",
       "      <td>Self-employed</td>\n",
       "      <td>Rural</td>\n",
       "      <td>174.12</td>\n",
       "      <td>24.0</td>\n",
       "      <td>never smoked</td>\n",
       "      <td>1</td>\n",
       "    </tr>\n",
       "  </tbody>\n",
       "</table>\n",
       "</div>"
      ],
      "text/plain": [
       "      id  gender   age  hypertension  heart_disease ever_married  \\\n",
       "0   9046    Male  67.0             0              1          Yes   \n",
       "1  51676  Female  61.0             0              0          Yes   \n",
       "2  31112    Male  80.0             0              1          Yes   \n",
       "3  60182  Female  49.0             0              0          Yes   \n",
       "4   1665  Female  79.0             1              0          Yes   \n",
       "\n",
       "       work_type Residence_type  avg_glucose_level   bmi   smoking_status  \\\n",
       "0        Private          Urban             228.69  36.6  formerly smoked   \n",
       "1  Self-employed          Rural             202.21   NaN     never smoked   \n",
       "2        Private          Rural             105.92  32.5     never smoked   \n",
       "3        Private          Urban             171.23  34.4           smokes   \n",
       "4  Self-employed          Rural             174.12  24.0     never smoked   \n",
       "\n",
       "   stroke  \n",
       "0       1  \n",
       "1       1  \n",
       "2       1  \n",
       "3       1  \n",
       "4       1  "
      ]
     },
     "execution_count": 2,
     "metadata": {},
     "output_type": "execute_result"
    }
   ],
   "source": [
    "ds = pd.read_csv('Assignment 4v2.csv', sep=',')\n",
    "ds.head()"
   ]
  },
  {
   "cell_type": "markdown",
   "id": "f77ae71e",
   "metadata": {},
   "source": [
    "### Confidence interval 90% of Average Glucose Level"
   ]
  },
  {
   "cell_type": "code",
   "execution_count": 15,
   "id": "a9be4eff",
   "metadata": {},
   "outputs": [
    {
     "data": {
      "text/plain": [
       "(105.10551296356607, 107.18984124387)"
      ]
     },
     "execution_count": 15,
     "metadata": {},
     "output_type": "execute_result"
    }
   ],
   "source": [
    "confidence = 0.90\n",
    "st.t.interval(confidence, len(ds)-1, loc=ds['avg_glucose_level'].mean(), scale=st.sem(ds['avg_glucose_level']))"
   ]
  },
  {
   "cell_type": "markdown",
   "id": "808ee3c5",
   "metadata": {},
   "source": [
    "### Confidence interval 95% of Average Glucose Level"
   ]
  },
  {
   "cell_type": "code",
   "execution_count": 14,
   "id": "91262d8f",
   "metadata": {},
   "outputs": [
    {
     "data": {
      "text/plain": [
       "(104.90579289716416, 107.38956131027192)"
      ]
     },
     "execution_count": 14,
     "metadata": {},
     "output_type": "execute_result"
    }
   ],
   "source": [
    "confidence = 0.95\n",
    "st.t.interval(confidence, len(ds)-1, loc=ds['avg_glucose_level'].mean(), scale=st.sem(ds['avg_glucose_level']))"
   ]
  },
  {
   "cell_type": "markdown",
   "id": "d8a5b566",
   "metadata": {},
   "source": [
    "### Confidence interval 99% of Average Glucose Level"
   ]
  },
  {
   "cell_type": "code",
   "execution_count": 16,
   "id": "49401551",
   "metadata": {},
   "outputs": [
    {
     "data": {
      "text/plain": [
       "(104.51534142921878, 107.7800127782173)"
      ]
     },
     "execution_count": 16,
     "metadata": {},
     "output_type": "execute_result"
    }
   ],
   "source": [
    "confidence = 0.99\n",
    "st.t.interval(confidence, len(ds)-1, loc=ds['avg_glucose_level'].mean(), scale=st.sem(ds['avg_glucose_level']))"
   ]
  },
  {
   "cell_type": "markdown",
   "id": "784783ce",
   "metadata": {},
   "source": [
    "### Confidence interval 99,99% of Average Glucose Level"
   ]
  },
  {
   "cell_type": "code",
   "execution_count": 17,
   "id": "b879f977",
   "metadata": {},
   "outputs": [
    {
     "data": {
      "text/plain": [
       "(103.6811333488417, 108.61422085859438)"
      ]
     },
     "execution_count": 17,
     "metadata": {},
     "output_type": "execute_result"
    }
   ],
   "source": [
    "confidence = 0.9999\n",
    "st.t.interval(confidence, len(ds)-1, loc=ds['avg_glucose_level'].mean(), scale=st.sem(ds['avg_glucose_level']))"
   ]
  },
  {
   "cell_type": "markdown",
   "id": "e10ed658",
   "metadata": {},
   "source": [
    "### Confidence interval 90% of BMI"
   ]
  },
  {
   "cell_type": "code",
   "execution_count": 18,
   "id": "2fbdd051",
   "metadata": {},
   "outputs": [
    {
     "data": {
      "text/plain": [
       "(28.708818582659323, 29.077655240930024)"
      ]
     },
     "execution_count": 18,
     "metadata": {},
     "output_type": "execute_result"
    }
   ],
   "source": [
    "confidence = 0.90\n",
    "st.t.interval(confidence, len(ds)-1, loc=ds['bmi'].mean(), scale=st.sem(ds['bmi'], nan_policy='omit'))"
   ]
  },
  {
   "cell_type": "markdown",
   "id": "d7a2230f",
   "metadata": {},
   "source": [
    "### Confidence interval 95% of BMI"
   ]
  },
  {
   "cell_type": "code",
   "execution_count": 19,
   "id": "b95590e9",
   "metadata": {},
   "outputs": [
    {
     "data": {
      "text/plain": [
       "(28.673476701739038, 29.11299712185031)"
      ]
     },
     "execution_count": 19,
     "metadata": {},
     "output_type": "execute_result"
    }
   ],
   "source": [
    "confidence = 0.95\n",
    "st.t.interval(confidence, len(ds)-1, loc=ds['bmi'].mean(), scale=st.sem(ds['bmi'], nan_policy='omit'))"
   ]
  },
  {
   "cell_type": "markdown",
   "id": "493c4f75",
   "metadata": {},
   "source": [
    "### Confidence interval 99% of BMI"
   ]
  },
  {
   "cell_type": "code",
   "execution_count": 20,
   "id": "cbd9407c",
   "metadata": {},
   "outputs": [
    {
     "data": {
      "text/plain": [
       "(28.604383547836782, 29.182090275752564)"
      ]
     },
     "execution_count": 20,
     "metadata": {},
     "output_type": "execute_result"
    }
   ],
   "source": [
    "confidence = 0.99\n",
    "st.t.interval(confidence, len(ds)-1, loc=ds['bmi'].mean(), scale=st.sem(ds['bmi'], nan_policy='omit'))"
   ]
  },
  {
   "cell_type": "markdown",
   "id": "95801aae",
   "metadata": {},
   "source": [
    "### Confidence interval 99,99% of BMI"
   ]
  },
  {
   "cell_type": "code",
   "execution_count": 21,
   "id": "94c512ee",
   "metadata": {},
   "outputs": [
    {
     "data": {
      "text/plain": [
       "(28.456764517007418, 29.32970930658193)"
      ]
     },
     "execution_count": 21,
     "metadata": {},
     "output_type": "execute_result"
    }
   ],
   "source": [
    "confidence = 0.9999\n",
    "st.t.interval(confidence, len(ds)-1, loc=ds['bmi'].mean(), scale=st.sem(ds['bmi'], nan_policy='omit'))"
   ]
  },
  {
   "cell_type": "markdown",
   "id": "a97cd67f",
   "metadata": {},
   "source": [
    "### Confidence interval 95% of 10% of the rows of BMI"
   ]
  },
  {
   "cell_type": "code",
   "execution_count": 34,
   "id": "8e4de008",
   "metadata": {},
   "outputs": [
    {
     "data": {
      "text/plain": [
       "(28.67347671192983, 29.112997111659517)"
      ]
     },
     "execution_count": 34,
     "metadata": {},
     "output_type": "execute_result"
    }
   ],
   "source": [
    "confidence = 0.95\n",
    "lengthDS = len(ds['bmi']) \n",
    "meanDS = ds.head(lengthDS)\n",
    "st.t.interval(confidence, lengthDS, loc=meanDS['bmi'].mean(), scale=st.sem(meanDS['bmi'], nan_policy='omit'))"
   ]
  },
  {
   "cell_type": "markdown",
   "id": "ab1e343d",
   "metadata": {},
   "source": [
    "### Confidence interval 95% of 10% of the rows of Average Glucose Level"
   ]
  },
  {
   "cell_type": "code",
   "execution_count": 35,
   "id": "33a1e9d8",
   "metadata": {},
   "outputs": [
    {
     "data": {
      "text/plain": [
       "(104.90579295475321, 107.38956125268287)"
      ]
     },
     "execution_count": 35,
     "metadata": {},
     "output_type": "execute_result"
    }
   ],
   "source": [
    "confidence = 0.95\n",
    "lengthDS = len(ds['avg_glucose_level']) \n",
    "meanDS = ds.head(lengthDS)\n",
    "st.t.interval(confidence, lengthDS, loc=meanDS['avg_glucose_level'].mean(), scale=st.sem(meanDS['avg_glucose_level'], nan_policy='omit'))"
   ]
  },
  {
   "cell_type": "code",
   "execution_count": null,
   "id": "80d15ec5",
   "metadata": {},
   "outputs": [],
   "source": []
  }
 ],
 "metadata": {
  "kernelspec": {
   "display_name": "Python 3 (ipykernel)",
   "language": "python",
   "name": "python3"
  },
  "language_info": {
   "codemirror_mode": {
    "name": "ipython",
    "version": 3
   },
   "file_extension": ".py",
   "mimetype": "text/x-python",
   "name": "python",
   "nbconvert_exporter": "python",
   "pygments_lexer": "ipython3",
   "version": "3.9.13"
  }
 },
 "nbformat": 4,
 "nbformat_minor": 5
}
