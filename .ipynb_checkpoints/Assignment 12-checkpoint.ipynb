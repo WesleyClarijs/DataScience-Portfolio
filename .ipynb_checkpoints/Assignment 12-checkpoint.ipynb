{
 "cells": [
  {
   "cell_type": "code",
   "execution_count": 1,
   "id": "15ebb600",
   "metadata": {},
   "outputs": [
    {
     "data": {
      "text/html": [
       "<div>\n",
       "<style scoped>\n",
       "    .dataframe tbody tr th:only-of-type {\n",
       "        vertical-align: middle;\n",
       "    }\n",
       "\n",
       "    .dataframe tbody tr th {\n",
       "        vertical-align: top;\n",
       "    }\n",
       "\n",
       "    .dataframe thead th {\n",
       "        text-align: right;\n",
       "    }\n",
       "</style>\n",
       "<table border=\"1\" class=\"dataframe\">\n",
       "  <thead>\n",
       "    <tr style=\"text-align: right;\">\n",
       "      <th></th>\n",
       "      <th>id</th>\n",
       "      <th>gender</th>\n",
       "      <th>age</th>\n",
       "      <th>hypertension</th>\n",
       "      <th>heart_disease</th>\n",
       "      <th>ever_married</th>\n",
       "      <th>work_type</th>\n",
       "      <th>Residence_type</th>\n",
       "      <th>avg_glucose_level</th>\n",
       "      <th>bmi</th>\n",
       "      <th>smoking_status</th>\n",
       "      <th>stroke</th>\n",
       "    </tr>\n",
       "  </thead>\n",
       "  <tbody>\n",
       "    <tr>\n",
       "      <th>0</th>\n",
       "      <td>9046</td>\n",
       "      <td>Male</td>\n",
       "      <td>67.0</td>\n",
       "      <td>0</td>\n",
       "      <td>1</td>\n",
       "      <td>Yes</td>\n",
       "      <td>Private</td>\n",
       "      <td>Urban</td>\n",
       "      <td>228.69</td>\n",
       "      <td>36.6</td>\n",
       "      <td>formerly smoked</td>\n",
       "      <td>1</td>\n",
       "    </tr>\n",
       "    <tr>\n",
       "      <th>1</th>\n",
       "      <td>51676</td>\n",
       "      <td>Female</td>\n",
       "      <td>61.0</td>\n",
       "      <td>0</td>\n",
       "      <td>0</td>\n",
       "      <td>Yes</td>\n",
       "      <td>Self-employed</td>\n",
       "      <td>Rural</td>\n",
       "      <td>202.21</td>\n",
       "      <td>NaN</td>\n",
       "      <td>never smoked</td>\n",
       "      <td>1</td>\n",
       "    </tr>\n",
       "    <tr>\n",
       "      <th>2</th>\n",
       "      <td>31112</td>\n",
       "      <td>Male</td>\n",
       "      <td>80.0</td>\n",
       "      <td>0</td>\n",
       "      <td>1</td>\n",
       "      <td>Yes</td>\n",
       "      <td>Private</td>\n",
       "      <td>Rural</td>\n",
       "      <td>105.92</td>\n",
       "      <td>32.5</td>\n",
       "      <td>never smoked</td>\n",
       "      <td>1</td>\n",
       "    </tr>\n",
       "    <tr>\n",
       "      <th>3</th>\n",
       "      <td>60182</td>\n",
       "      <td>Female</td>\n",
       "      <td>49.0</td>\n",
       "      <td>0</td>\n",
       "      <td>0</td>\n",
       "      <td>Yes</td>\n",
       "      <td>Private</td>\n",
       "      <td>Urban</td>\n",
       "      <td>171.23</td>\n",
       "      <td>34.4</td>\n",
       "      <td>smokes</td>\n",
       "      <td>1</td>\n",
       "    </tr>\n",
       "    <tr>\n",
       "      <th>4</th>\n",
       "      <td>1665</td>\n",
       "      <td>Female</td>\n",
       "      <td>79.0</td>\n",
       "      <td>1</td>\n",
       "      <td>0</td>\n",
       "      <td>Yes</td>\n",
       "      <td>Self-employed</td>\n",
       "      <td>Rural</td>\n",
       "      <td>174.12</td>\n",
       "      <td>24.0</td>\n",
       "      <td>never smoked</td>\n",
       "      <td>1</td>\n",
       "    </tr>\n",
       "  </tbody>\n",
       "</table>\n",
       "</div>"
      ],
      "text/plain": [
       "      id  gender   age  hypertension  heart_disease ever_married  \\\n",
       "0   9046    Male  67.0             0              1          Yes   \n",
       "1  51676  Female  61.0             0              0          Yes   \n",
       "2  31112    Male  80.0             0              1          Yes   \n",
       "3  60182  Female  49.0             0              0          Yes   \n",
       "4   1665  Female  79.0             1              0          Yes   \n",
       "\n",
       "       work_type Residence_type  avg_glucose_level   bmi   smoking_status  \\\n",
       "0        Private          Urban             228.69  36.6  formerly smoked   \n",
       "1  Self-employed          Rural             202.21   NaN     never smoked   \n",
       "2        Private          Rural             105.92  32.5     never smoked   \n",
       "3        Private          Urban             171.23  34.4           smokes   \n",
       "4  Self-employed          Rural             174.12  24.0     never smoked   \n",
       "\n",
       "   stroke  \n",
       "0       1  \n",
       "1       1  \n",
       "2       1  \n",
       "3       1  \n",
       "4       1  "
      ]
     },
     "execution_count": 1,
     "metadata": {},
     "output_type": "execute_result"
    }
   ],
   "source": [
    "import pandas as pd\n",
    "import seaborn as sns\n",
    "ds = pd.read_csv('Assignment 4v2.csv', sep=',')\n",
    "ds.head()"
   ]
  },
  {
   "cell_type": "code",
   "execution_count": 13,
   "id": "fc3f6efe",
   "metadata": {},
   "outputs": [
    {
     "data": {
      "text/html": [
       "<div>\n",
       "<style scoped>\n",
       "    .dataframe tbody tr th:only-of-type {\n",
       "        vertical-align: middle;\n",
       "    }\n",
       "\n",
       "    .dataframe tbody tr th {\n",
       "        vertical-align: top;\n",
       "    }\n",
       "\n",
       "    .dataframe thead th {\n",
       "        text-align: right;\n",
       "    }\n",
       "</style>\n",
       "<table border=\"1\" class=\"dataframe\">\n",
       "  <thead>\n",
       "    <tr style=\"text-align: right;\">\n",
       "      <th></th>\n",
       "      <th>id</th>\n",
       "      <th>age</th>\n",
       "      <th>hypertension</th>\n",
       "      <th>heart_disease</th>\n",
       "      <th>avg_glucose_level</th>\n",
       "      <th>bmi</th>\n",
       "      <th>stroke</th>\n",
       "    </tr>\n",
       "    <tr>\n",
       "      <th>Residence_type</th>\n",
       "      <th></th>\n",
       "      <th></th>\n",
       "      <th></th>\n",
       "      <th></th>\n",
       "      <th></th>\n",
       "      <th></th>\n",
       "      <th></th>\n",
       "    </tr>\n",
       "  </thead>\n",
       "  <tbody>\n",
       "    <tr>\n",
       "      <th>Rural</th>\n",
       "      <td>36547.998011</td>\n",
       "      <td>42.900811</td>\n",
       "      <td>0.099841</td>\n",
       "      <td>0.053302</td>\n",
       "      <td>106.375235</td>\n",
       "      <td>28.894212</td>\n",
       "      <td>0.045346</td>\n",
       "    </tr>\n",
       "    <tr>\n",
       "      <th>Urban</th>\n",
       "      <td>36488.613636</td>\n",
       "      <td>43.542126</td>\n",
       "      <td>0.095146</td>\n",
       "      <td>0.054700</td>\n",
       "      <td>105.927307</td>\n",
       "      <td>28.892289</td>\n",
       "      <td>0.052003</td>\n",
       "    </tr>\n",
       "  </tbody>\n",
       "</table>\n",
       "</div>"
      ],
      "text/plain": [
       "                          id        age  hypertension  heart_disease  \\\n",
       "Residence_type                                                         \n",
       "Rural           36547.998011  42.900811      0.099841       0.053302   \n",
       "Urban           36488.613636  43.542126      0.095146       0.054700   \n",
       "\n",
       "                avg_glucose_level        bmi    stroke  \n",
       "Residence_type                                          \n",
       "Rural                  106.375235  28.894212  0.045346  \n",
       "Urban                  105.927307  28.892289  0.052003  "
      ]
     },
     "execution_count": 13,
     "metadata": {},
     "output_type": "execute_result"
    }
   ],
   "source": [
    "ds.groupby(by='Residence_type').mean()"
   ]
  },
  {
   "cell_type": "markdown",
   "id": "c0e44c3a",
   "metadata": {},
   "source": [
    "Zoals hierboven te zien in de tabel, heb ik gekozen om de 'groupby' methode te gebruiken op 'Residence Type'. Deze heeft de waarde in de stad of buiten de stad / op het platteland. Het leek mij interessant om te kijken of er daadwerkelijk verschil zou zitten of mensen die in de stad wonen een grotere of kleinere kans zouden hebben om een hartinfarct, oftewel een stroke' te krijgen dan mensen die buiten de stad wonen. Om de verschillen goed weer te geven tussen de gezondheid van mensen in de stad en buiten de stad, zullen hieronder verschillende barplots te zien zijn die deze verschillen zullen weergeven"
   ]
  },
  {
   "cell_type": "code",
   "execution_count": 10,
   "id": "2961c141",
   "metadata": {},
   "outputs": [
    {
     "data": {
      "text/plain": [
       "<AxesSubplot:xlabel='Residence_type', ylabel='bmi'>"
      ]
     },
     "execution_count": 10,
     "metadata": {},
     "output_type": "execute_result"
    },
    {
     "data": {
      "image/png": "[encoded data removed]",
      "text/plain": [
       "<Figure size 640x480 with 1 Axes>"
      ]
     },
     "metadata": {},
     "output_type": "display_data"
    }
   ],
   "source": [
    "sns.barplot(x='Residence_type', y='bmi', data=ds)"
   ]
  },
  {
   "cell_type": "markdown",
   "id": "64f3da5b",
   "metadata": {},
   "source": [
    "In de bovenstaande barplot is te zien dat het gemiddelde bmi van de mensen die op in de stad wonen bijna precies gelijk is als die van de mensen die op het platteland wonen. In dit opzicht is er geen duidelijk verschil waardoor het bmi niet een duidelijke factor kan zijn bij het krijgen van een hartinfarct."
   ]
  },
  {
   "cell_type": "code",
   "execution_count": 11,
   "id": "5a534887",
   "metadata": {},
   "outputs": [
    {
     "data": {
      "text/plain": [
       "<AxesSubplot:xlabel='Residence_type', ylabel='avg_glucose_level'>"
      ]
     },
     "execution_count": 11,
     "metadata": {},
     "output_type": "execute_result"
    },
    {
     "data": {
      "image/png": "[encoded data removed]",
      "text/plain": [
       "<Figure size 640x480 with 1 Axes>"
      ]
     },
     "metadata": {},
     "output_type": "display_data"
    }
   ],
   "source": [
    "sns.barplot(x='Residence_type', y='avg_glucose_level', data=ds)"
   ]
  },
  {
   "cell_type": "markdown",
   "id": "ad9cc922",
   "metadata": {},
   "source": [
    "In bovenstaande barplot is hetzelfde aan de hand als in de barplot van het gemiddelde bmi. Het glucose level van beide woonsoorten is nagenoeg identiek aan elkaar waardoor dit ook niet een duidelijke aanwijzing zal zijn voor het krijgen van een infarct."
   ]
  },
  {
   "cell_type": "code",
   "execution_count": 16,
   "id": "fa9a097e",
   "metadata": {},
   "outputs": [
    {
     "data": {
      "text/plain": [
       "<AxesSubplot:xlabel='Residence_type', ylabel='hypertension'>"
      ]
     },
     "execution_count": 16,
     "metadata": {},
     "output_type": "execute_result"
    },
    {
     "data": {
      "image/png": "[encoded data removed]",
      "text/plain": [
       "<Figure size 640x480 with 1 Axes>"
      ]
     },
     "metadata": {},
     "output_type": "display_data"
    }
   ],
   "source": [
    "sns.barplot(x='Residence_type', y='hypertension', data=ds)"
   ]
  },
  {
   "cell_type": "markdown",
   "id": "0c558327",
   "metadata": {},
   "source": [
    "In bovenstaande barplot is te zien dat de mensen op het platteland iets vaker last hebben van een hoge bloeddruk als de mensen in de stad. Dit verschil is nog niet echt significant maar zou wel een factor kunnen zijn voor het ontstaan van een hartinfarct / beroerte"
   ]
  },
  {
   "cell_type": "code",
   "execution_count": 18,
   "id": "5752ce83",
   "metadata": {},
   "outputs": [
    {
     "data": {
      "text/plain": [
       "<AxesSubplot:xlabel='Residence_type', ylabel='heart_disease'>"
      ]
     },
     "execution_count": 18,
     "metadata": {},
     "output_type": "execute_result"
    },
    {
     "data": {
      "image/png": "[encoded data removed]",
      "text/plain": [
       "<Figure size 640x480 with 1 Axes>"
      ]
     },
     "metadata": {},
     "output_type": "display_data"
    }
   ],
   "source": [
    "sns.barplot(x='Residence_type', y='heart_disease', data=ds)"
   ]
  },
  {
   "cell_type": "markdown",
   "id": "8c4134f1",
   "metadata": {},
   "source": [
    "In bovenstaande barplot is te zien dat er een zeer klein verschil is tussen de mensen die in de stad leven en buiten de stad leven wat betreft hartziektes. Ook hier is er geen sprake van een groot verschil waardoor dit ook geen duidelijke oorzaak schets wat betreft een beroerte"
   ]
  },
  {
   "cell_type": "code",
   "execution_count": 9,
   "id": "2573bfbe",
   "metadata": {},
   "outputs": [
    {
     "data": {
      "text/plain": [
       "<AxesSubplot:xlabel='Residence_type', ylabel='stroke'>"
      ]
     },
     "execution_count": 9,
     "metadata": {},
     "output_type": "execute_result"
    },
    {
     "data": {
      "image/png": "[encoded data removed]",
      "text/plain": [
       "<Figure size 640x480 with 1 Axes>"
      ]
     },
     "metadata": {},
     "output_type": "display_data"
    }
   ],
   "source": [
    "sns.barplot(x='Residence_type', y='stroke', data=ds)"
   ]
  },
  {
   "cell_type": "markdown",
   "id": "1d4a7475",
   "metadata": {},
   "source": [
    "Als laatste barplot is te zien wat het verschil is tussen de mensen in de stad en buiten de stad wat betreft een daadwerkelijke beroerte. Hierboven is te zien dat mensen in de stad een grotere kans hebben op een beroerte vergeleken met de mensen die buiten de stad of op het platteland wonen. Uit de eerdere barplots is er niet een aanzienlijk verschil gekomen tussen de stad en platteland waardoor de grotere kans momenteel niet te verklaren valt aan de hand van de type huisvesting waar de mensen wonen"
   ]
  },
  {
   "cell_type": "code",
   "execution_count": null,
   "id": "fd77e18d",
   "metadata": {},
   "outputs": [],
   "source": []
  }
 ],
 "metadata": {
  "kernelspec": {
   "display_name": "Python 3 (ipykernel)",
   "language": "python",
   "name": "python3"
  },
  "language_info": {
   "codemirror_mode": {
    "name": "ipython",
    "version": 3
   },
   "file_extension": ".py",
   "mimetype": "text/x-python",
   "name": "python",
   "nbconvert_exporter": "python",
   "pygments_lexer": "ipython3",
   "version": "3.9.13"
  }
 },
 "nbformat": 4,
 "nbformat_minor": 5
}
