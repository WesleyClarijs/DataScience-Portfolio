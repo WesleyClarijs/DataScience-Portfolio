{
 "cells": [
  {
   "cell_type": "code",
   "execution_count": 2,
   "id": "cf4cb558",
   "metadata": {},
   "outputs": [
    {
     "data": {
      "text/html": [
       "<div>\n",
       "<style scoped>\n",
       "    .dataframe tbody tr th:only-of-type {\n",
       "        vertical-align: middle;\n",
       "    }\n",
       "\n",
       "    .dataframe tbody tr th {\n",
       "        vertical-align: top;\n",
       "    }\n",
       "\n",
       "    .dataframe thead th {\n",
       "        text-align: right;\n",
       "    }\n",
       "</style>\n",
       "<table border=\"1\" class=\"dataframe\">\n",
       "  <thead>\n",
       "    <tr style=\"text-align: right;\">\n",
       "      <th></th>\n",
       "      <th>id</th>\n",
       "      <th>gender</th>\n",
       "      <th>age</th>\n",
       "      <th>hypertension</th>\n",
       "      <th>heart_disease</th>\n",
       "      <th>ever_married</th>\n",
       "      <th>work_type</th>\n",
       "      <th>Residence_type</th>\n",
       "      <th>avg_glucose_level</th>\n",
       "      <th>bmi</th>\n",
       "      <th>smoking_status</th>\n",
       "      <th>stroke</th>\n",
       "    </tr>\n",
       "  </thead>\n",
       "  <tbody>\n",
       "    <tr>\n",
       "      <th>0</th>\n",
       "      <td>9046</td>\n",
       "      <td>Male</td>\n",
       "      <td>67.0</td>\n",
       "      <td>0</td>\n",
       "      <td>1</td>\n",
       "      <td>Yes</td>\n",
       "      <td>Private</td>\n",
       "      <td>Urban</td>\n",
       "      <td>228.69</td>\n",
       "      <td>36.6</td>\n",
       "      <td>formerly smoked</td>\n",
       "      <td>1</td>\n",
       "    </tr>\n",
       "    <tr>\n",
       "      <th>1</th>\n",
       "      <td>51676</td>\n",
       "      <td>Female</td>\n",
       "      <td>61.0</td>\n",
       "      <td>0</td>\n",
       "      <td>0</td>\n",
       "      <td>Yes</td>\n",
       "      <td>Self-employed</td>\n",
       "      <td>Rural</td>\n",
       "      <td>202.21</td>\n",
       "      <td>NaN</td>\n",
       "      <td>never smoked</td>\n",
       "      <td>1</td>\n",
       "    </tr>\n",
       "    <tr>\n",
       "      <th>2</th>\n",
       "      <td>31112</td>\n",
       "      <td>Male</td>\n",
       "      <td>80.0</td>\n",
       "      <td>0</td>\n",
       "      <td>1</td>\n",
       "      <td>Yes</td>\n",
       "      <td>Private</td>\n",
       "      <td>Rural</td>\n",
       "      <td>105.92</td>\n",
       "      <td>32.5</td>\n",
       "      <td>never smoked</td>\n",
       "      <td>1</td>\n",
       "    </tr>\n",
       "    <tr>\n",
       "      <th>3</th>\n",
       "      <td>60182</td>\n",
       "      <td>Female</td>\n",
       "      <td>49.0</td>\n",
       "      <td>0</td>\n",
       "      <td>0</td>\n",
       "      <td>Yes</td>\n",
       "      <td>Private</td>\n",
       "      <td>Urban</td>\n",
       "      <td>171.23</td>\n",
       "      <td>34.4</td>\n",
       "      <td>smokes</td>\n",
       "      <td>1</td>\n",
       "    </tr>\n",
       "    <tr>\n",
       "      <th>4</th>\n",
       "      <td>1665</td>\n",
       "      <td>Female</td>\n",
       "      <td>79.0</td>\n",
       "      <td>1</td>\n",
       "      <td>0</td>\n",
       "      <td>Yes</td>\n",
       "      <td>Self-employed</td>\n",
       "      <td>Rural</td>\n",
       "      <td>174.12</td>\n",
       "      <td>24.0</td>\n",
       "      <td>never smoked</td>\n",
       "      <td>1</td>\n",
       "    </tr>\n",
       "  </tbody>\n",
       "</table>\n",
       "</div>"
      ],
      "text/plain": [
       "      id  gender   age  hypertension  heart_disease ever_married  \\\n",
       "0   9046    Male  67.0             0              1          Yes   \n",
       "1  51676  Female  61.0             0              0          Yes   \n",
       "2  31112    Male  80.0             0              1          Yes   \n",
       "3  60182  Female  49.0             0              0          Yes   \n",
       "4   1665  Female  79.0             1              0          Yes   \n",
       "\n",
       "       work_type Residence_type  avg_glucose_level   bmi   smoking_status  \\\n",
       "0        Private          Urban             228.69  36.6  formerly smoked   \n",
       "1  Self-employed          Rural             202.21   NaN     never smoked   \n",
       "2        Private          Rural             105.92  32.5     never smoked   \n",
       "3        Private          Urban             171.23  34.4           smokes   \n",
       "4  Self-employed          Rural             174.12  24.0     never smoked   \n",
       "\n",
       "   stroke  \n",
       "0       1  \n",
       "1       1  \n",
       "2       1  \n",
       "3       1  \n",
       "4       1  "
      ]
     },
     "execution_count": 2,
     "metadata": {},
     "output_type": "execute_result"
    }
   ],
   "source": [
    "import pandas as pd\n",
    "import seaborn as sns\n",
    "ds = pd.read_csv('Assignment 4v2.csv', sep=',')\n",
    "ds.head()"
   ]
  },
  {
   "cell_type": "code",
   "execution_count": 3,
   "id": "62c0e648",
   "metadata": {},
   "outputs": [
    {
     "data": {
      "text/plain": [
       "Female    2994\n",
       "Male      2115\n",
       "Name: gender, dtype: int64"
      ]
     },
     "execution_count": 3,
     "metadata": {},
     "output_type": "execute_result"
    }
   ],
   "source": [
    "ds['gender'].value_counts()"
   ]
  },
  {
   "cell_type": "code",
   "execution_count": 7,
   "id": "3e1067b0",
   "metadata": {},
   "outputs": [
    {
     "data": {
      "text/html": [
       "<div>\n",
       "<style scoped>\n",
       "    .dataframe tbody tr th:only-of-type {\n",
       "        vertical-align: middle;\n",
       "    }\n",
       "\n",
       "    .dataframe tbody tr th {\n",
       "        vertical-align: top;\n",
       "    }\n",
       "\n",
       "    .dataframe thead th {\n",
       "        text-align: right;\n",
       "    }\n",
       "</style>\n",
       "<table border=\"1\" class=\"dataframe\">\n",
       "  <thead>\n",
       "    <tr style=\"text-align: right;\">\n",
       "      <th>stroke</th>\n",
       "      <th>0</th>\n",
       "      <th>1</th>\n",
       "    </tr>\n",
       "    <tr>\n",
       "      <th>Residence_type</th>\n",
       "      <th></th>\n",
       "      <th></th>\n",
       "    </tr>\n",
       "  </thead>\n",
       "  <tbody>\n",
       "    <tr>\n",
       "      <th>Rural</th>\n",
       "      <td>2399</td>\n",
       "      <td>114</td>\n",
       "    </tr>\n",
       "    <tr>\n",
       "      <th>Urban</th>\n",
       "      <td>2461</td>\n",
       "      <td>135</td>\n",
       "    </tr>\n",
       "  </tbody>\n",
       "</table>\n",
       "</div>"
      ],
      "text/plain": [
       "stroke             0    1\n",
       "Residence_type           \n",
       "Rural           2399  114\n",
       "Urban           2461  135"
      ]
     },
     "execution_count": 7,
     "metadata": {},
     "output_type": "execute_result"
    }
   ],
   "source": [
    "ResidenceTypeStrokeTable = ds.groupby(['stroke','Residence_type']).size().unstack('stroke', fill_value=0)\n",
    "ResidenceTypeStrokeTable"
   ]
  },
  {
   "cell_type": "code",
   "execution_count": 8,
   "id": "ad02a660",
   "metadata": {
    "scrolled": true
   },
   "outputs": [
    {
     "data": {
      "text/plain": [
       "<AxesSubplot:xlabel='Residence_type'>"
      ]
     },
     "execution_count": 8,
     "metadata": {},
     "output_type": "execute_result"
    },
    {
     "data": {
      "image/png": "[encoded data removed]",
      "text/plain": [
       "<Figure size 640x480 with 1 Axes>"
      ]
     },
     "metadata": {},
     "output_type": "display_data"
    }
   ],
   "source": [
    "ResidenceTypeStrokeTable.plot(kind='bar')"
   ]
  },
  {
   "cell_type": "code",
   "execution_count": 23,
   "id": "0f46f9b3",
   "metadata": {},
   "outputs": [
    {
     "name": "stdout",
     "output_type": "stream",
     "text": [
      "Percentage van mensen die in de stad wonen die een stroke hebben gekregen:\n",
      "5.485574969524584\n",
      "Percentage van mensen die op het platteland wonen die een stroke hebben gekregen:\n",
      "4.751979991663193\n"
     ]
    }
   ],
   "source": [
    "print ('Percentage van mensen die in de stad wonen die een stroke hebben gekregen:')\n",
    "print ((135/2461)*100)\n",
    "print('Percentage van mensen die op het platteland wonen die een stroke hebben gekregen:')\n",
    "print ((114/2399)*100)"
   ]
  },
  {
   "cell_type": "markdown",
   "id": "d080d697",
   "metadata": {},
   "source": [
    "Zoals uit de berekening hierboven is gebleken, is de kans iets kleiner als je buiten de stad woont om een stroke te krijgen als wanneer je in de stad woont. Het verschil is zeer klein dus in mijn ogen is het gebied waar je woont niet echt een duidelijk risicofactor op het krijgen van een beroerte."
   ]
  },
  {
   "cell_type": "code",
   "execution_count": 15,
   "id": "c892a02b",
   "metadata": {},
   "outputs": [
    {
     "data": {
      "text/plain": [
       "(1.0749713079092142,\n",
       " 0.29982523877153633,\n",
       " 1,\n",
       " array([[2390.52260716,  122.47739284],\n",
       "        [2469.47739284,  126.52260716]]))"
      ]
     },
     "execution_count": 15,
     "metadata": {},
     "output_type": "execute_result"
    }
   ],
   "source": [
    "from scipy.stats import chi2_contingency\n",
    "chi2_contingency(ResidenceTypeStrokeTable)"
   ]
  },
  {
   "cell_type": "code",
   "execution_count": 24,
   "id": "6a35037c",
   "metadata": {},
   "outputs": [
    {
     "data": {
      "text/html": [
       "<div>\n",
       "<style scoped>\n",
       "    .dataframe tbody tr th:only-of-type {\n",
       "        vertical-align: middle;\n",
       "    }\n",
       "\n",
       "    .dataframe tbody tr th {\n",
       "        vertical-align: top;\n",
       "    }\n",
       "\n",
       "    .dataframe thead th {\n",
       "        text-align: right;\n",
       "    }\n",
       "</style>\n",
       "<table border=\"1\" class=\"dataframe\">\n",
       "  <thead>\n",
       "    <tr style=\"text-align: right;\">\n",
       "      <th>smoking_status</th>\n",
       "      <th>Unknown</th>\n",
       "      <th>formerly smoked</th>\n",
       "      <th>never smoked</th>\n",
       "      <th>smokes</th>\n",
       "    </tr>\n",
       "    <tr>\n",
       "      <th>stroke</th>\n",
       "      <th></th>\n",
       "      <th></th>\n",
       "      <th></th>\n",
       "      <th></th>\n",
       "    </tr>\n",
       "  </thead>\n",
       "  <tbody>\n",
       "    <tr>\n",
       "      <th>0</th>\n",
       "      <td>1497</td>\n",
       "      <td>814</td>\n",
       "      <td>1802</td>\n",
       "      <td>747</td>\n",
       "    </tr>\n",
       "    <tr>\n",
       "      <th>1</th>\n",
       "      <td>47</td>\n",
       "      <td>70</td>\n",
       "      <td>90</td>\n",
       "      <td>42</td>\n",
       "    </tr>\n",
       "  </tbody>\n",
       "</table>\n",
       "</div>"
      ],
      "text/plain": [
       "smoking_status  Unknown  formerly smoked  never smoked  smokes\n",
       "stroke                                                        \n",
       "0                  1497              814          1802     747\n",
       "1                    47               70            90      42"
      ]
     },
     "execution_count": 24,
     "metadata": {},
     "output_type": "execute_result"
    }
   ],
   "source": [
    "SmokingStatusStrokeTable = ds.groupby(['smoking_status','stroke']).size().unstack('smoking_status', fill_value=0)\n",
    "SmokingStatusStrokeTable"
   ]
  },
  {
   "cell_type": "code",
   "execution_count": 25,
   "id": "24cbdc44",
   "metadata": {},
   "outputs": [
    {
     "data": {
      "text/plain": [
       "<AxesSubplot:xlabel='stroke'>"
      ]
     },
     "execution_count": 25,
     "metadata": {},
     "output_type": "execute_result"
    },
    {
     "data": {
      "image/png": "[encoded data removed]",
      "text/plain": [
       "<Figure size 640x480 with 1 Axes>"
      ]
     },
     "metadata": {},
     "output_type": "display_data"
    }
   ],
   "source": [
    "SmokingStatusStrokeTable.plot(kind = 'bar')"
   ]
  },
  {
   "cell_type": "code",
   "execution_count": 22,
   "id": "e046e08b",
   "metadata": {},
   "outputs": [
    {
     "name": "stdout",
     "output_type": "stream",
     "text": [
      "De kans dat mensen die eerder in hun leven hebben gerookt en nu gestopt zijn een beroerte krijgen is:\n",
      "8.5995085995086\n",
      "De kans dat mensen die nooit gerookt hebben in hun leven een beroerte krijgen is:\n",
      "4.994450610432852\n",
      "De kans dat mensen die nog steeds roken een beroerte krijgen is:\n",
      "5.622489959839357\n"
     ]
    }
   ],
   "source": [
    "print('De kans dat mensen die eerder in hun leven hebben gerookt en nu gestopt zijn een beroerte krijgen is:')\n",
    "print((70/814)*100)\n",
    "print('De kans dat mensen die nooit gerookt hebben in hun leven een beroerte krijgen is:')\n",
    "print((90/1802)*100)\n",
    "print ('De kans dat mensen die nog steeds roken een beroerte krijgen is:')\n",
    "print((42/747)*100)\n"
   ]
  },
  {
   "cell_type": "markdown",
   "id": "1c59f287",
   "metadata": {},
   "source": [
    "Zoals hierboven te zien is de kans groter op een beroerte wanneer je ooit in je leven hebt gerookt of wanneer je nog steeds rookt. De kans is groter wanneer je gestopt bent, zoals hierboven uit de berekening komt. \n",
    "\n",
    "Persoonlijk had ik verwacht dat de mensen die roken de hoogste kans zouden hebben op een beroerte. Dit blijkt uit de berekening niet zo te zijn, maar dit kan ook berusten op toeval. Uit de berekeningen hierboven blijkt dus wel dat de status van roken wel invloed heeft op de kans van het krijgen van een beroerte."
   ]
  },
  {
   "cell_type": "code",
   "execution_count": 26,
   "id": "f1fca047",
   "metadata": {},
   "outputs": [
    {
     "data": {
      "text/plain": [
       "(29.22572707549827,\n",
       " 2.0077041756108317e-06,\n",
       " 3,\n",
       " array([[1468.749266  ,  840.91603053, 1799.78860834,  750.54609513],\n",
       "        [  75.250734  ,   43.08396947,   92.21139166,   38.45390487]]))"
      ]
     },
     "execution_count": 26,
     "metadata": {},
     "output_type": "execute_result"
    }
   ],
   "source": [
    "chi2_contingency(SmokingStatusStrokeTable)"
   ]
  },
  {
   "cell_type": "code",
   "execution_count": 28,
   "id": "13047566",
   "metadata": {},
   "outputs": [
    {
     "data": {
      "text/html": [
       "<div>\n",
       "<style scoped>\n",
       "    .dataframe tbody tr th:only-of-type {\n",
       "        vertical-align: middle;\n",
       "    }\n",
       "\n",
       "    .dataframe tbody tr th {\n",
       "        vertical-align: top;\n",
       "    }\n",
       "\n",
       "    .dataframe thead th {\n",
       "        text-align: right;\n",
       "    }\n",
       "</style>\n",
       "<table border=\"1\" class=\"dataframe\">\n",
       "  <thead>\n",
       "    <tr style=\"text-align: right;\">\n",
       "      <th>stroke</th>\n",
       "      <th>0</th>\n",
       "      <th>1</th>\n",
       "    </tr>\n",
       "    <tr>\n",
       "      <th>gender</th>\n",
       "      <th></th>\n",
       "      <th></th>\n",
       "    </tr>\n",
       "  </thead>\n",
       "  <tbody>\n",
       "    <tr>\n",
       "      <th>Female</th>\n",
       "      <td>2853</td>\n",
       "      <td>141</td>\n",
       "    </tr>\n",
       "    <tr>\n",
       "      <th>Male</th>\n",
       "      <td>2007</td>\n",
       "      <td>108</td>\n",
       "    </tr>\n",
       "  </tbody>\n",
       "</table>\n",
       "</div>"
      ],
      "text/plain": [
       "stroke     0    1\n",
       "gender           \n",
       "Female  2853  141\n",
       "Male    2007  108"
      ]
     },
     "execution_count": 28,
     "metadata": {},
     "output_type": "execute_result"
    }
   ],
   "source": [
    "GenderStrokeTable = ds.groupby(['stroke','gender']).size().unstack('stroke', fill_value=0)\n",
    "GenderStrokeTable"
   ]
  },
  {
   "cell_type": "code",
   "execution_count": 32,
   "id": "1902f944",
   "metadata": {},
   "outputs": [
    {
     "data": {
      "text/plain": [
       "<AxesSubplot:xlabel='gender'>"
      ]
     },
     "execution_count": 32,
     "metadata": {},
     "output_type": "execute_result"
    },
    {
     "data": {
      "image/png": "[encoded data removed]",
      "text/plain": [
       "<Figure size 640x480 with 1 Axes>"
      ]
     },
     "metadata": {},
     "output_type": "display_data"
    }
   ],
   "source": [
    "GenderStrokeTable.plot(kind = 'bar')"
   ]
  },
  {
   "cell_type": "code",
   "execution_count": 31,
   "id": "2a731803",
   "metadata": {},
   "outputs": [
    {
     "name": "stdout",
     "output_type": "stream",
     "text": [
      "De kans dat je als vrouw een stroke krijgt is:\n",
      "4.942166140904311\n",
      "De kans dat je als man een stroke krijgt is:\n",
      "5.381165919282512\n"
     ]
    }
   ],
   "source": [
    "print('De kans dat je als vrouw een stroke krijgt is:')\n",
    "print((141/2853)*100)\n",
    "print('De kans dat je als man een stroke krijgt is:')\n",
    "print((108/2007)*100)"
   ]
  },
  {
   "cell_type": "markdown",
   "id": "bc5d2a52",
   "metadata": {},
   "source": [
    "Hierboven is te zien hoeveel procent kans er aanwezig is op een beroerte wanneer je een man of een vrouw bent. Zoals hierboven is gebleken, is de kans iets groter om een beroerte te krijgen als je een man bent als wanneer je een vrouw bent. Nu kan dit verschil ook verklaard worden uit het feit dat de dataset meer gegevens van vrouwen bevat dan van mannen, maar dit is voor nu nog niet uit te sluiten of dit daadwerkelijk hierdoor komt."
   ]
  },
  {
   "cell_type": "code",
   "execution_count": 33,
   "id": "cf650153",
   "metadata": {},
   "outputs": [
    {
     "data": {
      "text/html": [
       "<div>\n",
       "<style scoped>\n",
       "    .dataframe tbody tr th:only-of-type {\n",
       "        vertical-align: middle;\n",
       "    }\n",
       "\n",
       "    .dataframe tbody tr th {\n",
       "        vertical-align: top;\n",
       "    }\n",
       "\n",
       "    .dataframe thead th {\n",
       "        text-align: right;\n",
       "    }\n",
       "</style>\n",
       "<table border=\"1\" class=\"dataframe\">\n",
       "  <thead>\n",
       "    <tr style=\"text-align: right;\">\n",
       "      <th>stroke</th>\n",
       "      <th>0</th>\n",
       "      <th>1</th>\n",
       "    </tr>\n",
       "    <tr>\n",
       "      <th>work_type</th>\n",
       "      <th></th>\n",
       "      <th></th>\n",
       "    </tr>\n",
       "  </thead>\n",
       "  <tbody>\n",
       "    <tr>\n",
       "      <th>Govt_job</th>\n",
       "      <td>624</td>\n",
       "      <td>33</td>\n",
       "    </tr>\n",
       "    <tr>\n",
       "      <th>Never_worked</th>\n",
       "      <td>22</td>\n",
       "      <td>0</td>\n",
       "    </tr>\n",
       "    <tr>\n",
       "      <th>Private</th>\n",
       "      <td>2775</td>\n",
       "      <td>149</td>\n",
       "    </tr>\n",
       "    <tr>\n",
       "      <th>Self-employed</th>\n",
       "      <td>754</td>\n",
       "      <td>65</td>\n",
       "    </tr>\n",
       "    <tr>\n",
       "      <th>children</th>\n",
       "      <td>685</td>\n",
       "      <td>2</td>\n",
       "    </tr>\n",
       "  </tbody>\n",
       "</table>\n",
       "</div>"
      ],
      "text/plain": [
       "stroke            0    1\n",
       "work_type               \n",
       "Govt_job        624   33\n",
       "Never_worked     22    0\n",
       "Private        2775  149\n",
       "Self-employed   754   65\n",
       "children        685    2"
      ]
     },
     "execution_count": 33,
     "metadata": {},
     "output_type": "execute_result"
    }
   ],
   "source": [
    "WorkTypeStrokeTable = ds.groupby(['stroke','work_type']).size().unstack('stroke', fill_value=0)\n",
    "WorkTypeStrokeTable"
   ]
  },
  {
   "cell_type": "code",
   "execution_count": 34,
   "id": "38f5b9e8",
   "metadata": {},
   "outputs": [
    {
     "data": {
      "text/plain": [
       "<AxesSubplot:xlabel='work_type'>"
      ]
     },
     "execution_count": 34,
     "metadata": {},
     "output_type": "execute_result"
    },
    {
     "data": {
      "image/png": "[encoded data removed]",
      "text/plain": [
       "<Figure size 640x480 with 1 Axes>"
      ]
     },
     "metadata": {},
     "output_type": "display_data"
    }
   ],
   "source": [
    "WorkTypeStrokeTable.plot(kind = 'bar')"
   ]
  },
  {
   "cell_type": "markdown",
   "id": "d7d48f80",
   "metadata": {},
   "source": [
    "Persoonlijk denk ik dat het type werk dat een individu beoefent geen effect heeft op het krijgen van een beroerte. Uit de barplot is op te maken dat dit niet echt goed in verhouding is aangezien ook kinderen worden meegeteld en de verschillen qua hoeveelheid ook zeer ongelijk is. De meeste mensen hebben een gewone loonbaan (private), en persoonlijk denk ik dat hoe meer mensen een bepaald type baan beoefenen, hoe hoger het aantal mensen dat een beroerte krijgt zal zijn. Omdat ik persoonlijk denk dat deze factor geen echte invloed zal hebben op het krijgen van een beroerte, zal dit ook de enige zijn die niet verder uitgewerkt zal worden in vergelijking tot de andere factoren / data typen"
   ]
  },
  {
   "cell_type": "code",
   "execution_count": null,
   "id": "58a078fa",
   "metadata": {},
   "outputs": [],
   "source": []
  }
 ],
 "metadata": {
  "kernelspec": {
   "display_name": "Python 3 (ipykernel)",
   "language": "python",
   "name": "python3"
  },
  "language_info": {
   "codemirror_mode": {
    "name": "ipython",
    "version": 3
   },
   "file_extension": ".py",
   "mimetype": "text/x-python",
   "name": "python",
   "nbconvert_exporter": "python",
   "pygments_lexer": "ipython3",
   "version": "3.9.13"
  }
 },
 "nbformat": 4,
 "nbformat_minor": 5
}
