{
 "cells": [
  {
   "cell_type": "code",
   "execution_count": 1,
   "id": "f08997cf",
   "metadata": {},
   "outputs": [],
   "source": [
    "import numpy as np\n",
    "import seaborn as sns\n",
    "import pandas as pd\n",
    "import scipy.stats as st"
   ]
  },
  {
   "cell_type": "code",
   "execution_count": 2,
   "id": "a176e826",
   "metadata": {},
   "outputs": [
    {
     "data": {
      "text/html": [
       "<div>\n",
       "<style scoped>\n",
       "    .dataframe tbody tr th:only-of-type {\n",
       "        vertical-align: middle;\n",
       "    }\n",
       "\n",
       "    .dataframe tbody tr th {\n",
       "        vertical-align: top;\n",
       "    }\n",
       "\n",
       "    .dataframe thead th {\n",
       "        text-align: right;\n",
       "    }\n",
       "</style>\n",
       "<table border=\"1\" class=\"dataframe\">\n",
       "  <thead>\n",
       "    <tr style=\"text-align: right;\">\n",
       "      <th></th>\n",
       "      <th>id</th>\n",
       "      <th>gender</th>\n",
       "      <th>age</th>\n",
       "      <th>hypertension</th>\n",
       "      <th>heart_disease</th>\n",
       "      <th>ever_married</th>\n",
       "      <th>work_type</th>\n",
       "      <th>Residence_type</th>\n",
       "      <th>avg_glucose_level</th>\n",
       "      <th>bmi</th>\n",
       "      <th>smoking_status</th>\n",
       "      <th>stroke</th>\n",
       "    </tr>\n",
       "  </thead>\n",
       "  <tbody>\n",
       "    <tr>\n",
       "      <th>0</th>\n",
       "      <td>9046</td>\n",
       "      <td>Male</td>\n",
       "      <td>67.0</td>\n",
       "      <td>0</td>\n",
       "      <td>1</td>\n",
       "      <td>Yes</td>\n",
       "      <td>Private</td>\n",
       "      <td>Urban</td>\n",
       "      <td>228.69</td>\n",
       "      <td>36.6</td>\n",
       "      <td>formerly smoked</td>\n",
       "      <td>1</td>\n",
       "    </tr>\n",
       "    <tr>\n",
       "      <th>1</th>\n",
       "      <td>51676</td>\n",
       "      <td>Female</td>\n",
       "      <td>61.0</td>\n",
       "      <td>0</td>\n",
       "      <td>0</td>\n",
       "      <td>Yes</td>\n",
       "      <td>Self-employed</td>\n",
       "      <td>Rural</td>\n",
       "      <td>202.21</td>\n",
       "      <td>NaN</td>\n",
       "      <td>never smoked</td>\n",
       "      <td>1</td>\n",
       "    </tr>\n",
       "    <tr>\n",
       "      <th>2</th>\n",
       "      <td>31112</td>\n",
       "      <td>Male</td>\n",
       "      <td>80.0</td>\n",
       "      <td>0</td>\n",
       "      <td>1</td>\n",
       "      <td>Yes</td>\n",
       "      <td>Private</td>\n",
       "      <td>Rural</td>\n",
       "      <td>105.92</td>\n",
       "      <td>32.5</td>\n",
       "      <td>never smoked</td>\n",
       "      <td>1</td>\n",
       "    </tr>\n",
       "    <tr>\n",
       "      <th>3</th>\n",
       "      <td>60182</td>\n",
       "      <td>Female</td>\n",
       "      <td>49.0</td>\n",
       "      <td>0</td>\n",
       "      <td>0</td>\n",
       "      <td>Yes</td>\n",
       "      <td>Private</td>\n",
       "      <td>Urban</td>\n",
       "      <td>171.23</td>\n",
       "      <td>34.4</td>\n",
       "      <td>smokes</td>\n",
       "      <td>1</td>\n",
       "    </tr>\n",
       "    <tr>\n",
       "      <th>4</th>\n",
       "      <td>1665</td>\n",
       "      <td>Female</td>\n",
       "      <td>79.0</td>\n",
       "      <td>1</td>\n",
       "      <td>0</td>\n",
       "      <td>Yes</td>\n",
       "      <td>Self-employed</td>\n",
       "      <td>Rural</td>\n",
       "      <td>174.12</td>\n",
       "      <td>24.0</td>\n",
       "      <td>never smoked</td>\n",
       "      <td>1</td>\n",
       "    </tr>\n",
       "  </tbody>\n",
       "</table>\n",
       "</div>"
      ],
      "text/plain": [
       "      id  gender   age  hypertension  heart_disease ever_married  \\\n",
       "0   9046    Male  67.0             0              1          Yes   \n",
       "1  51676  Female  61.0             0              0          Yes   \n",
       "2  31112    Male  80.0             0              1          Yes   \n",
       "3  60182  Female  49.0             0              0          Yes   \n",
       "4   1665  Female  79.0             1              0          Yes   \n",
       "\n",
       "       work_type Residence_type  avg_glucose_level   bmi   smoking_status  \\\n",
       "0        Private          Urban             228.69  36.6  formerly smoked   \n",
       "1  Self-employed          Rural             202.21   NaN     never smoked   \n",
       "2        Private          Rural             105.92  32.5     never smoked   \n",
       "3        Private          Urban             171.23  34.4           smokes   \n",
       "4  Self-employed          Rural             174.12  24.0     never smoked   \n",
       "\n",
       "   stroke  \n",
       "0       1  \n",
       "1       1  \n",
       "2       1  \n",
       "3       1  \n",
       "4       1  "
      ]
     },
     "execution_count": 2,
     "metadata": {},
     "output_type": "execute_result"
    }
   ],
   "source": [
    "ds = pd.read_csv('Assignment 4v2.csv', sep=',')\n",
    "ds.head()"
   ]
  },
  {
   "cell_type": "markdown",
   "id": "f77ae71e",
   "metadata": {},
   "source": [
    "### Confidence interval 90% of Average Glucose Level"
   ]
  },
  {
   "cell_type": "code",
   "execution_count": 3,
   "id": "a9be4eff",
   "metadata": {},
   "outputs": [
    {
     "data": {
      "text/plain": [
       "(105.09809990565259, 107.18269868506937)"
      ]
     },
     "execution_count": 3,
     "metadata": {},
     "output_type": "execute_result"
    }
   ],
   "source": [
    "confidence = 0.90\n",
    "st.t.interval(confidence, len(ds)-1, loc=ds['avg_glucose_level'].mean(), scale=st.sem(ds['avg_glucose_level']))"
   ]
  },
  {
   "cell_type": "markdown",
   "id": "808ee3c5",
   "metadata": {},
   "source": [
    "### Confidence interval 95% of Average Glucose Level"
   ]
  },
  {
   "cell_type": "code",
   "execution_count": 4,
   "id": "91262d8f",
   "metadata": {},
   "outputs": [
    {
     "data": {
      "text/plain": [
       "(104.89835390653991, 107.38244468418205)"
      ]
     },
     "execution_count": 4,
     "metadata": {},
     "output_type": "execute_result"
    }
   ],
   "source": [
    "confidence = 0.95\n",
    "st.t.interval(confidence, len(ds)-1, loc=ds['avg_glucose_level'].mean(), scale=st.sem(ds['avg_glucose_level']))"
   ]
  },
  {
   "cell_type": "markdown",
   "id": "d8a5b566",
   "metadata": {},
   "source": [
    "### Confidence interval 99% of Average Glucose Level"
   ]
  },
  {
   "cell_type": "code",
   "execution_count": 5,
   "id": "49401551",
   "metadata": {},
   "outputs": [
    {
     "data": {
      "text/plain": [
       "(104.50785171878117, 107.77294687194079)"
      ]
     },
     "execution_count": 5,
     "metadata": {},
     "output_type": "execute_result"
    }
   ],
   "source": [
    "confidence = 0.99\n",
    "st.t.interval(confidence, len(ds)-1, loc=ds['avg_glucose_level'].mean(), scale=st.sem(ds['avg_glucose_level']))"
   ]
  },
  {
   "cell_type": "markdown",
   "id": "784783ce",
   "metadata": {},
   "source": [
    "### Confidence interval 99,99% of Average Glucose Level"
   ]
  },
  {
   "cell_type": "code",
   "execution_count": 6,
   "id": "b879f977",
   "metadata": {},
   "outputs": [
    {
     "data": {
      "text/plain": [
       "(103.67353514437566, 108.6072634463463)"
      ]
     },
     "execution_count": 6,
     "metadata": {},
     "output_type": "execute_result"
    }
   ],
   "source": [
    "confidence = 0.9999\n",
    "st.t.interval(confidence, len(ds)-1, loc=ds['avg_glucose_level'].mean(), scale=st.sem(ds['avg_glucose_level']))"
   ]
  },
  {
   "cell_type": "markdown",
   "id": "e10ed658",
   "metadata": {},
   "source": [
    "### Confidence interval 90% of BMI"
   ]
  },
  {
   "cell_type": "code",
   "execution_count": 7,
   "id": "2fbdd051",
   "metadata": {},
   "outputs": [
    {
     "data": {
      "text/plain": [
       "(28.71011683444067, 29.079002969960335)"
      ]
     },
     "execution_count": 7,
     "metadata": {},
     "output_type": "execute_result"
    }
   ],
   "source": [
    "confidence = 0.90\n",
    "st.t.interval(confidence, len(ds)-1, loc=ds['bmi'].mean(), scale=st.sem(ds['bmi'], nan_policy='omit'))"
   ]
  },
  {
   "cell_type": "markdown",
   "id": "d7a2230f",
   "metadata": {},
   "source": [
    "### Confidence interval 95% of BMI"
   ]
  },
  {
   "cell_type": "code",
   "execution_count": 8,
   "id": "b95590e9",
   "metadata": {},
   "outputs": [
    {
     "data": {
      "text/plain": [
       "(28.67477021022418, 29.114349594176822)"
      ]
     },
     "execution_count": 8,
     "metadata": {},
     "output_type": "execute_result"
    }
   ],
   "source": [
    "confidence = 0.95\n",
    "st.t.interval(confidence, len(ds)-1, loc=ds['bmi'].mean(), scale=st.sem(ds['bmi'], nan_policy='omit'))"
   ]
  },
  {
   "cell_type": "markdown",
   "id": "493c4f75",
   "metadata": {},
   "source": [
    "### Confidence interval 99% of BMI"
   ]
  },
  {
   "cell_type": "code",
   "execution_count": 9,
   "id": "cbd9407c",
   "metadata": {},
   "outputs": [
    {
     "data": {
      "text/plain": [
       "(28.605667779398335, 29.18345202500267)"
      ]
     },
     "execution_count": 9,
     "metadata": {},
     "output_type": "execute_result"
    }
   ],
   "source": [
    "confidence = 0.99\n",
    "st.t.interval(confidence, len(ds)-1, loc=ds['bmi'].mean(), scale=st.sem(ds['bmi'], nan_policy='omit'))"
   ]
  },
  {
   "cell_type": "markdown",
   "id": "95801aae",
   "metadata": {},
   "source": [
    "### Confidence interval 99,99% of BMI"
   ]
  },
  {
   "cell_type": "code",
   "execution_count": 10,
   "id": "94c512ee",
   "metadata": {},
   "outputs": [
    {
     "data": {
      "text/plain": [
       "(28.45802890520761, 29.331090899193395)"
      ]
     },
     "execution_count": 10,
     "metadata": {},
     "output_type": "execute_result"
    }
   ],
   "source": [
    "confidence = 0.9999\n",
    "st.t.interval(confidence, len(ds)-1, loc=ds['bmi'].mean(), scale=st.sem(ds['bmi'], nan_policy='omit'))"
   ]
  },
  {
   "cell_type": "markdown",
   "id": "a97cd67f",
   "metadata": {},
   "source": [
    "### Confidence interval 95% of 10% of the rows of BMI"
   ]
  },
  {
   "cell_type": "code",
   "execution_count": 11,
   "id": "8e4de008",
   "metadata": {},
   "outputs": [
    {
     "data": {
      "text/plain": [
       "(28.67477022042033, 29.114349583980673)"
      ]
     },
     "execution_count": 11,
     "metadata": {},
     "output_type": "execute_result"
    }
   ],
   "source": [
    "confidence = 0.95\n",
    "lengthDS = len(ds['bmi']) \n",
    "meanDS = ds.head(lengthDS)\n",
    "st.t.interval(confidence, lengthDS, loc=meanDS['bmi'].mean(), scale=st.sem(meanDS['bmi'], nan_policy='omit'))"
   ]
  },
  {
   "cell_type": "markdown",
   "id": "ab1e343d",
   "metadata": {},
   "source": [
    "### Confidence interval 95% of 10% of the rows of Average Glucose Level"
   ]
  },
  {
   "cell_type": "code",
   "execution_count": 12,
   "id": "33a1e9d8",
   "metadata": {},
   "outputs": [
    {
     "data": {
      "text/plain": [
       "(104.89835396415899, 107.38244462656297)"
      ]
     },
     "execution_count": 12,
     "metadata": {},
     "output_type": "execute_result"
    }
   ],
   "source": [
    "confidence = 0.95\n",
    "lengthDS = len(ds['avg_glucose_level']) \n",
    "meanDS = ds.head(lengthDS)\n",
    "st.t.interval(confidence, lengthDS, loc=meanDS['avg_glucose_level'].mean(), scale=st.sem(meanDS['avg_glucose_level'], nan_policy='omit'))"
   ]
  },
  {
   "cell_type": "code",
   "execution_count": null,
   "id": "80d15ec5",
   "metadata": {},
   "outputs": [],
   "source": []
  }
 ],
 "metadata": {
  "kernelspec": {
   "display_name": "Python 3 (ipykernel)",
   "language": "python",
   "name": "python3"
  },
  "language_info": {
   "codemirror_mode": {
    "name": "ipython",
    "version": 3
   },
   "file_extension": ".py",
   "mimetype": "text/x-python",
   "name": "python",
   "nbconvert_exporter": "python",
   "pygments_lexer": "ipython3",
   "version": "3.9.13"
  }
 },
 "nbformat": 4,
 "nbformat_minor": 5
}
